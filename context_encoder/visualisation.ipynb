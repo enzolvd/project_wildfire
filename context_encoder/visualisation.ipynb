{
 "cells": [
  {
   "cell_type": "markdown",
   "metadata": {},
   "source": [
    "# **Context Encoders**\n"
   ]
  },
  {
   "cell_type": "markdown",
   "metadata": {},
   "source": [
    "## Load libraries, models"
   ]
  },
  {
   "cell_type": "code",
   "execution_count": null,
   "metadata": {},
   "outputs": [],
   "source": [
    "import numpy as np\n",
    "from utils.load_dataset import get_all_datasets\n",
    "from pathlib import Path\n",
    "import torch\n",
    "import torch.nn as nn\n",
    "from torch.utils.data import DataLoader\n",
    "from torchvision import transforms\n",
    "from PIL import Image, ImageFile\n",
    "ImageFile.LOAD_TRUNCATED_IMAGES = True\n",
    "import matplotlib.pyplot as plt\n",
    "from model import ContextEncoder, Discriminator\n",
    "from classifier import create_wildfire_classifier\n",
    "from utils.utils_gan import get_mask, apply_mask, train_one_epoch, load_checkpoint, plot_comparison"
   ]
  },
  {
   "cell_type": "code",
   "execution_count": null,
   "metadata": {},
   "outputs": [],
   "source": [
    "def extract_masked(true, pred, mask):\n",
    "    pred = pred.detach().cpu().numpy()\n",
    "    zone_true = np.zeros((50,50,3))\n",
    "    zone_pred = np.zeros((50,50,3))\n",
    "    for i in range(3):\n",
    "        zone_true[:,:,i] = true[0,i,...].flatten()[np.flatnonzero(1-mask[0,0])].reshape((50,50))\n",
    "        zone_pred[:,:,i] = pred[0,i,...].flatten()[np.flatnonzero(1-mask[0,0])].reshape((50,50))\n",
    "\n",
    "    return zone_true, zone_pred"
   ]
  },
  {
   "cell_type": "markdown",
   "metadata": {},
   "source": [
    "## Load data"
   ]
  },
  {
   "cell_type": "code",
   "execution_count": null,
   "metadata": {},
   "outputs": [],
   "source": [
    "dataset_path = Path('../data')\n",
    "pretrain_path = dataset_path / 'train'\n",
    "val_path = dataset_path / 'valid'\n",
    "test_path = dataset_path / 'test'\n",
    "data_transforms = {\n",
    "    'pretrain': transforms.Compose([\n",
    "        transforms.ToTensor(),\n",
    "    ]),\n",
    "    'valid': transforms.Compose([\n",
    "        transforms.ToTensor(),\n",
    "    ]),\n",
    "    'test': transforms.Compose([\n",
    "        transforms.ToTensor(),\n",
    "    ]),\n",
    "}\n",
    "device = torch.device('cuda' if torch.cuda.is_available() else 'cpu')\n",
    "\n",
    "pretrain_dataset, train_dataset, val_dataset, test_dataset = get_all_datasets(pretrain_path=pretrain_path,\n",
    "                                                                              val_path=val_path,\n",
    "                                                                              test_path=test_path,\n",
    "                                                                              transforms_dict=data_transforms)"
   ]
  },
  {
   "cell_type": "markdown",
   "metadata": {},
   "source": [
    "## Load model"
   ]
  },
  {
   "cell_type": "code",
   "execution_count": null,
   "metadata": {},
   "outputs": [],
   "source": [
    "pretrain_dataloader = DataLoader(pretrain_dataset, batch_size=16)\n",
    "model = ContextEncoder()\n",
    "discriminator = Discriminator()\n",
    "device = torch.device(\"cuda\" if torch.cuda.is_available() else \"cpu\")\n",
    "path_check = '../checkpoints/context_encoder/context_encoder.pt'\n",
    "load_checkpoint(path_check, model, discriminator)"
   ]
  },
  {
   "cell_type": "markdown",
   "metadata": {},
   "source": [
    "## Visualize ContextEncoder performances"
   ]
  },
  {
   "cell_type": "code",
   "execution_count": null,
   "metadata": {},
   "outputs": [],
   "source": [
    "def plot_grid_pair_comparisons(true_images, pred_images, title=\"Sample Reconstructions\"):\n",
    "  \"\"\"\n",
    "  Plots 9 (3x6) subplots where each true image and its prediction are shown separately.\n",
    "  \n",
    "  Parameters:\n",
    "  - true_images: list of numpy arrays for true images.\n",
    "  - pred_images: list of numpy arrays for predicted images.\n",
    "  - title: overall title for the figure.\n",
    "  \n",
    "  Returns:\n",
    "  - The matplotlib figure.\n",
    "  \"\"\"\n",
    "  fig, axes = plt.subplots(2, 4, figsize=(18, 9))\n",
    "  fig.suptitle(title, fontsize=16)\n",
    "  \n",
    "  # Loop through each pair and assign them to two consecutive subplots.\n",
    "  for idx in range(len(true_images)):\n",
    "    row = idx // 2  # three pairs per row\n",
    "    col_true = (idx % 2) * 2      # true image in even column\n",
    "    col_pred = (idx % 2) * 2 + 1  # predicted image in next column\n",
    "    \n",
    "    axes[row, col_true].imshow(true_images[idx])\n",
    "    axes[row, col_true].set_xticks([])\n",
    "    axes[row, col_true].set_yticks([])\n",
    "    \n",
    "    axes[row, col_pred].imshow(pred_images[idx])\n",
    "    axes[row, col_pred].axis(\"off\")\n",
    "    axes[row, col_pred].set_xticks([])\n",
    "    axes[row, col_pred].set_yticks([])\n",
    "  \n",
    "  plt.tight_layout()\n",
    "  plt.subplots_adjust(top=0.90)\n",
    "  return fig\n"
   ]
  },
  {
   "cell_type": "code",
   "execution_count": null,
   "metadata": {},
   "outputs": [],
   "source": [
    "ds = train_dataset\n",
    "true_images = []\n",
    "pred_images = []\n",
    "ids = []\n",
    "n = 4\n",
    "path = '/home/enzolouv/Documents/ENS PS 2024-2025/cours/computer_vision/project_wildfire/outputs/context_encoder'\n",
    "for i in range(n):\n",
    "    idx = np.random.randint(0,len(ds))\n",
    "    ids.append(idx)\n",
    "    true = ds[idx][0][None]\n",
    "    mask = get_mask(true.shape)\n",
    "    input_masked, output_masked_gt = apply_mask(true, mask)\n",
    "    pred = model(input_masked)\n",
    "    reconstructed = pred*(1-mask) + true*mask\n",
    "    true_images.append(input_masked[0].permute(1,2,0).detach().cpu().numpy())\n",
    "    pred_images.append(reconstructed[0].permute(1,2,0).detach().cpu().numpy())\n",
    "fig = plot_grid_pair_comparisons(true_images, pred_images, \"Sample Reconstructions with masked inputs\")\n",
    "plt.savefig(f'{path}/reconstructions.png')\n",
    "plt.show()\n",
    "\n",
    "true_images = []\n",
    "pred_images = []\n",
    "\n",
    "for i in range(n):\n",
    "    idx = ids[i]\n",
    "    true = ds[idx][0][None]\n",
    "    mask = get_mask(true.shape)\n",
    "    input_masked, output_masked_gt = apply_mask(true, mask)\n",
    "    pred = model(true)\n",
    "    reconstructed = pred*(1-mask) + true*mask\n",
    "    true_images.append(input_masked[0].permute(1,2,0).detach().cpu().numpy())\n",
    "    pred_images.append(reconstructed[0].permute(1,2,0).detach().cpu().numpy())\n",
    "fig = plot_grid_pair_comparisons(true_images, pred_images, \"Sample Reconstructions without masked inputs\")\n",
    "plt.savefig(f'{path}/reconstructions_masked.png')\n",
    "plt.show()\n",
    "\n",
    "\n",
    "true_images = []\n",
    "pred_images = []\n",
    "for i in range(n):\n",
    "    idx = ids[i]\n",
    "    true = ds[idx][0][None]\n",
    "    mask = get_mask(true.shape)\n",
    "    input_masked, output_masked_gt = apply_mask(true, mask)\n",
    "    pred = model(input_masked)\n",
    "    reconstructed = pred*(1-mask) + true*mask\n",
    "    zone_true, zone_pred = extract_masked(true,reconstructed, mask)\n",
    "    true_images.append(zone_true)\n",
    "    pred_images.append(zone_pred)\n",
    "fig = plot_grid_pair_comparisons(true_images, pred_images, \"Sample Reconstructions zoomed in without masked inputs\")\n",
    "plt.savefig(f'{path}/reconstructions_zoomed.png')\n",
    "plt.show()\n",
    "\n",
    "true_images = []\n",
    "pred_images = []\n",
    "for i in range(n):\n",
    "    idx = ids[i]\n",
    "    true = ds[idx][0][None]\n",
    "    mask = get_mask(true.shape)\n",
    "    input_masked, output_masked_gt = apply_mask(true, mask)\n",
    "    pred = model(true)\n",
    "    reconstructed = pred*(1-mask) + true*mask\n",
    "    zone_true, zone_pred = extract_masked(true,reconstructed, mask)\n",
    "    true_images.append(zone_true)\n",
    "    pred_images.append(zone_pred)\n",
    "fig = plot_grid_pair_comparisons(true_images, pred_images, \"Sample Reconstructions zoomed in without masked inputs\")\n",
    "plt.savefig(f'{path}/reconstructions_masked_zoomed.png')\n",
    "plt.show()\n"
   ]
  }
 ],
 "metadata": {
  "kernelspec": {
   "display_name": "computer_vision",
   "language": "python",
   "name": "python3"
  },
  "language_info": {
   "codemirror_mode": {
    "name": "ipython",
    "version": 3
   },
   "file_extension": ".py",
   "mimetype": "text/x-python",
   "name": "python",
   "nbconvert_exporter": "python",
   "pygments_lexer": "ipython3",
   "version": "3.12.8"
  }
 },
 "nbformat": 4,
 "nbformat_minor": 2
}
