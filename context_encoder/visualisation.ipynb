{
 "cells": [
  {
   "cell_type": "markdown",
   "metadata": {},
   "source": [
    "# **Context Encoders**\n"
   ]
  },
  {
   "cell_type": "markdown",
   "metadata": {},
   "source": [
    "## Load libraries, models"
   ]
  },
  {
   "cell_type": "code",
   "execution_count": null,
   "metadata": {},
   "outputs": [],
   "source": [
    "import numpy as np\n",
    "from utils.load_dataset import get_all_datasets\n",
    "from pathlib import Path\n",
    "import torch\n",
    "import torch.nn as nn\n",
    "from torch.utils.data import DataLoader\n",
    "from torchvision import transforms\n",
    "from PIL import Image, ImageFile\n",
    "ImageFile.LOAD_TRUNCATED_IMAGES = True\n",
    "import matplotlib.pyplot as plt\n",
    "from model import ContextEncoder, Discriminator\n",
    "from classifier import create_wildfire_classifier\n",
    "from utils.utils_gan import get_mask, apply_mask, train_one_epoch, load_checkpoint, plot_comparison"
   ]
  },
  {
   "cell_type": "code",
   "execution_count": null,
   "metadata": {},
   "outputs": [],
   "source": [
    "def extract_masked(true, pred, mask, title):\n",
    "    pred = pred.detach().cpu().numpy()\n",
    "    zone_true = np.zeros((50,50,3))\n",
    "    zone_pred = np.zeros((50,50,3))\n",
    "    for i in range(3):\n",
    "        zone_true[:,:,i] = true[0,i,...].flatten()[np.flatnonzero(1-mask[0,0])].reshape((50,50))\n",
    "        zone_pred[:,:,i] = pred[0,i,...].flatten()[np.flatnonzero(1-mask[0,0])].reshape((50,50))\n",
    "\n",
    "    plot_comparison(zone_true, zone_pred, title)"
   ]
  },
  {
   "cell_type": "markdown",
   "metadata": {},
   "source": [
    "## Load data"
   ]
  },
  {
   "cell_type": "code",
   "execution_count": null,
   "metadata": {},
   "outputs": [],
   "source": [
    "dataset_path = Path('../data')\n",
    "pretrain_path = dataset_path / 'train'\n",
    "val_path = dataset_path / 'valid'\n",
    "test_path = dataset_path / 'test'\n",
    "data_transforms = {\n",
    "    'pretrain': transforms.Compose([\n",
    "        transforms.ToTensor(),\n",
    "    ]),\n",
    "    'valid': transforms.Compose([\n",
    "        transforms.ToTensor(),\n",
    "    ]),\n",
    "    'test': transforms.Compose([\n",
    "        transforms.ToTensor(),\n",
    "    ]),\n",
    "}\n",
    "device = torch.device('cuda' if torch.cuda.is_available() else 'cpu')\n",
    "\n",
    "pretrain_dataset, train_dataset, val_dataset, test_dataset = get_all_datasets(pretrain_path=pretrain_path,\n",
    "                                                                              val_path=val_path,\n",
    "                                                                              test_path=test_path,\n",
    "                                                                              transforms_dict=data_transforms)"
   ]
  },
  {
   "cell_type": "markdown",
   "metadata": {},
   "source": [
    "## Load model"
   ]
  },
  {
   "cell_type": "code",
   "execution_count": null,
   "metadata": {},
   "outputs": [],
   "source": [
    "pretrain_dataloader = DataLoader(pretrain_dataset, batch_size=16)\n",
    "model = ContextEncoder()\n",
    "discriminator = Discriminator()\n",
    "device = torch.device(\"cuda\" if torch.cuda.is_available() else \"cpu\")\n",
    "path_check = '../checkpoints/context_encoder/context_encoder.pt'\n",
    "load_checkpoint(path_check, model, discriminator)"
   ]
  },
  {
   "cell_type": "markdown",
   "metadata": {},
   "source": [
    "## Visualize ContextEncoder performances"
   ]
  },
  {
   "cell_type": "code",
   "execution_count": null,
   "metadata": {},
   "outputs": [],
   "source": [
    "ds = train_dataset\n",
    "idx = np.random.randint(0,len(ds))\n",
    "true = ds[idx][0][None]\n",
    "mask = get_mask(true.shape)\n",
    "input_masked, output_masked_gt = apply_mask(true, mask)\n",
    "pred = model(input_masked)\n",
    "reconstructed = pred*(1-mask) + true*mask\n",
    "plot_comparison(input_masked[0].permute(1,2,0).detach().cpu().numpy(),pred[0].permute(1,2,0).detach().cpu().numpy(), 'Input masked vs Recontructed Image')\n",
    "plt.show()\n",
    "\n",
    "extract_masked(true,reconstructed, mask, 'Masked zone vs Reconstructed zone')"
   ]
  }
 ],
 "metadata": {
  "kernelspec": {
   "display_name": "computer_vision",
   "language": "python",
   "name": "python3"
  },
  "language_info": {
   "codemirror_mode": {
    "name": "ipython",
    "version": 3
   },
   "file_extension": ".py",
   "mimetype": "text/x-python",
   "name": "python",
   "nbconvert_exporter": "python",
   "pygments_lexer": "ipython3",
   "version": "3.12.8"
  }
 },
 "nbformat": 4,
 "nbformat_minor": 2
}
